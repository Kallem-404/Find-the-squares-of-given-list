{
 "cells": [
  {
   "cell_type": "code",
   "execution_count": null,
   "id": "2a5f62ae",
   "metadata": {},
   "outputs": [],
   "source": [
    "##Find the Squares from the given List"
   ]
  },
  {
   "cell_type": "code",
   "execution_count": 3,
   "id": "1753fdfa",
   "metadata": {},
   "outputs": [
    {
     "name": "stdout",
     "output_type": "stream",
     "text": [
      "The given list is = [4, 5, 2, 9]\n",
      "Given Numbers:  [4, 5, 2, 9]\n",
      "\n",
      "Square of given numbers are:\n",
      "[16, 25, 4, 81]\n"
     ]
    }
   ],
   "source": [
    "def square(num):                             # defining the square function\n",
    "    return num**2\n",
    "\n",
    "my_nums = [4,5,2,9]                          #Input list\n",
    "print('The given list is =', my_nums)          \n",
    "print(\"Given Numbers: \", my_nums)            # printing given list\n",
    "map(square,my_nums)                         \n",
    "print(\"\\nSquare of given numbers are:\")      \n",
    "print(list(map(square,my_nums)))              # to get the results , we are iterating through map function\n",
    "    "
   ]
  },
  {
   "cell_type": "code",
   "execution_count": null,
   "id": "0484dab7",
   "metadata": {},
   "outputs": [],
   "source": []
  }
 ],
 "metadata": {
  "kernelspec": {
   "display_name": "Python 3 (ipykernel)",
   "language": "python",
   "name": "python3"
  },
  "language_info": {
   "codemirror_mode": {
    "name": "ipython",
    "version": 3
   },
   "file_extension": ".py",
   "mimetype": "text/x-python",
   "name": "python",
   "nbconvert_exporter": "python",
   "pygments_lexer": "ipython3",
   "version": "3.10.1"
  }
 },
 "nbformat": 4,
 "nbformat_minor": 5
}
